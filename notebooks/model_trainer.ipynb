{
 "cells": [
  {
   "cell_type": "code",
   "execution_count": 1,
   "metadata": {},
   "outputs": [
    {
     "name": "stdout",
     "output_type": "stream",
     "text": [
      "Requirement already satisfied: pandas in c:\\users\\vinil\\appdata\\local\\programs\\python\\python312\\lib\\site-packages (2.2.3)\n",
      "Requirement already satisfied: numpy in c:\\users\\vinil\\appdata\\local\\programs\\python\\python312\\lib\\site-packages (2.1.3)\n",
      "Requirement already satisfied: scikit-learn in c:\\users\\vinil\\appdata\\local\\programs\\python\\python312\\lib\\site-packages (1.6.1)\n",
      "Requirement already satisfied: joblib in c:\\users\\vinil\\appdata\\local\\programs\\python\\python312\\lib\\site-packages (1.4.2)\n",
      "Requirement already satisfied: python-dateutil>=2.8.2 in c:\\users\\vinil\\appdata\\local\\programs\\python\\python312\\lib\\site-packages (from pandas) (2.9.0.post0)\n",
      "Requirement already satisfied: pytz>=2020.1 in c:\\users\\vinil\\appdata\\local\\programs\\python\\python312\\lib\\site-packages (from pandas) (2025.1)\n",
      "Requirement already satisfied: tzdata>=2022.7 in c:\\users\\vinil\\appdata\\local\\programs\\python\\python312\\lib\\site-packages (from pandas) (2025.1)\n",
      "Requirement already satisfied: scipy>=1.6.0 in c:\\users\\vinil\\appdata\\local\\programs\\python\\python312\\lib\\site-packages (from scikit-learn) (1.15.2)\n",
      "Requirement already satisfied: threadpoolctl>=3.1.0 in c:\\users\\vinil\\appdata\\local\\programs\\python\\python312\\lib\\site-packages (from scikit-learn) (3.6.0)\n",
      "Requirement already satisfied: six>=1.5 in c:\\users\\vinil\\appdata\\local\\programs\\python\\python312\\lib\\site-packages (from python-dateutil>=2.8.2->pandas) (1.17.0)\n",
      "Note: you may need to restart the kernel to use updated packages.\n"
     ]
    }
   ],
   "source": [
    "pip install pandas numpy scikit-learn joblib\n"
   ]
  },
  {
   "cell_type": "code",
   "execution_count": 3,
   "metadata": {},
   "outputs": [
    {
     "name": "stdout",
     "output_type": "stream",
     "text": [
      "\n",
      "----- XGBoost Training -----\n",
      "\n",
      "XGBoost Accuracy: 0.64\n",
      "XGBoost Confusion Matrix:\n",
      " [[26  0  0  1  2  2  1  0]\n",
      " [ 2  3  1  1  2  1  1  1]\n",
      " [ 2  1 26  0  0  3  0  2]\n",
      " [ 2  1  2 15  0  0  1  1]\n",
      " [ 2  2  0  0  2  0  1  4]\n",
      " [ 5  3  1  1  2 20  0  1]\n",
      " [ 1  3  1  2  2  1  0  1]\n",
      " [ 1  0  2  1  2  2  1 36]]\n"
     ]
    }
   ],
   "source": [
    "import numpy as np\n",
    "import pandas as pd\n",
    "import logging\n",
    "import os\n",
    "import traceback\n",
    "from sklearn.preprocessing import OneHotEncoder, MinMaxScaler, LabelEncoder\n",
    "from sklearn.model_selection import train_test_split\n",
    "from xgboost import XGBClassifier\n",
    "from sklearn.metrics import confusion_matrix, accuracy_score\n",
    "\n",
    "# Setup logging\n",
    "log_folder = \"notebooks\"\n",
    "os.makedirs(log_folder, exist_ok=True)\n",
    "log_file = os.path.join(log_folder, \"training.log\")\n",
    "logging.basicConfig(filename=log_file, level=logging.INFO, format='%(asctime)s - %(levelname)s - %(message)s')\n",
    "\n",
    "def log_exception():\n",
    "    exc_type, exc_value, exc_traceback = traceback.format_exc().splitlines()[-3:]\n",
    "    logging.error(f\"Exception: {exc_value}, Location: {exc_traceback}\")\n",
    "\n",
    "try:\n",
    "    # Load dataset\n",
    "    dataset_path = \"irrigation_data.csv\"\n",
    "    dataset = pd.read_csv(dataset_path)\n",
    "    logging.info(\"Dataset loaded successfully.\")\n",
    "\n",
    "    # Define feature columns\n",
    "    numerical_features = [\"Rainfall (mm)\", \"Soil Moisture (%)\", \"Temperature \", \"Evaporation Rate (mm/day)\"]\n",
    "    categorical_features = [\"Crop Type\", \"Water Availability\", \"Soil Type\"]\n",
    "\n",
    "    # Step 1: Apply One-Hot Encoding to Categorical Features\n",
    "    encoder = OneHotEncoder(handle_unknown='ignore', sparse_output=False)\n",
    "    X_encoded = encoder.fit_transform(dataset[categorical_features])\n",
    "    X_encoded_df = pd.DataFrame(X_encoded, columns=encoder.get_feature_names_out(categorical_features))\n",
    "    logging.info(\"One-hot encoding applied.\")\n",
    "\n",
    "    # Step 2: Label Encode Target Variable\n",
    "    target_encoder = LabelEncoder()\n",
    "    dataset[\"Irrigation Type\"] = target_encoder.fit_transform(dataset[\"Irrigation Type\"])\n",
    "    y = dataset[\"Irrigation Type\"]\n",
    "    logging.info(\"Target variable encoded.\")\n",
    "\n",
    "    # Combine Encoded Features with Numerical Data\n",
    "    X = pd.concat([X_encoded_df, dataset[numerical_features]], axis=1)\n",
    "\n",
    "    # Step 3: Split Dataset into Train & Test Sets\n",
    "    X_train, X_test, y_train, y_test = train_test_split(X, y, test_size=0.20, random_state=0, stratify=y)\n",
    "    logging.info(\"Dataset split into training and testing sets.\")\n",
    "\n",
    "    # Step 4: Normalize Only Numerical Columns\n",
    "    scaler = MinMaxScaler()\n",
    "    X_train[numerical_features] = scaler.fit_transform(X_train[numerical_features])\n",
    "    X_test[numerical_features] = scaler.transform(X_test[numerical_features])\n",
    "    logging.info(\"Feature scaling applied.\")\n",
    "\n",
    "    # XGBoost Model\n",
    "    print(\"\\n----- XGBoost Training -----\\n\")\n",
    "    logging.info(\"Starting XGBoost training.\")\n",
    "    \n",
    "    xgb = XGBClassifier(eval_metric='mlogloss', random_state=0)\n",
    "    xgb.fit(X_train, y_train)\n",
    "    y_pred_xgb = xgb.predict(X_test)\n",
    "    \n",
    "    accuracy_xgb = accuracy_score(y_test, y_pred_xgb)\n",
    "    logging.info(f\"XGBoost Accuracy: {accuracy_xgb:.2f}\")\n",
    "    print(f\"XGBoost Accuracy: {accuracy_xgb:.2f}\")\n",
    "\n",
    "    # Display Confusion Matrix for XGBoost\n",
    "    print(\"XGBoost Confusion Matrix:\\n\", confusion_matrix(y_test, y_pred_xgb))\n",
    "    logging.info(\"XGBoost confusion matrix computed.\")\n",
    "\n",
    "except Exception as e:\n",
    "    log_exception()\n",
    "    print(f\"An error occurred: {e}\")\n"
   ]
  },
  {
   "cell_type": "code",
   "execution_count": 7,
   "metadata": {},
   "outputs": [
    {
     "name": "stdout",
     "output_type": "stream",
     "text": [
      "Model and encoders saved successfully in: C:\\Users\\VINIL\\Desktop\\irrigation_type\\flask_app\\models\n"
     ]
    }
   ],
   "source": [
    "import pickle\n",
    "\n",
    "models_folder = r\"C:\\Users\\VINIL\\Desktop\\irrigation_type\\flask_app\\models\"\n",
    "os.makedirs(models_folder, exist_ok=True)\n",
    "\n",
    "# Define file paths\n",
    "model_path = os.path.join(models_folder, \"xgboost_irrigation_model.pkl\")\n",
    "encoder_path = os.path.join(models_folder, \"onehot_encoder.pkl\")\n",
    "scaler_path = os.path.join(models_folder, \"minmax_scaler.pkl\")\n",
    "label_encoder_path = os.path.join(models_folder, \"label_encoder.pkl\")\n",
    "\n",
    "# Save the trained XGBoost model\n",
    "with open(model_path, \"wb\") as model_file:\n",
    "    pickle.dump(xgb, model_file)\n",
    "\n",
    "# Save the OneHotEncoder\n",
    "with open(encoder_path, \"wb\") as encoder_file:\n",
    "    pickle.dump(encoder, encoder_file)\n",
    "\n",
    "# Save the MinMaxScaler\n",
    "with open(scaler_path, \"wb\") as scaler_file:\n",
    "    pickle.dump(scaler, scaler_file)\n",
    "\n",
    "# Save the LabelEncoder\n",
    "with open(label_encoder_path, \"wb\") as label_encoder_file:\n",
    "    pickle.dump(target_encoder, label_encoder_file)\n",
    "\n",
    "logging.info(\"XGBoost model and preprocessing objects saved successfully in the models folder.\")\n",
    "print(\"Model and encoders saved successfully in:\", models_folder)\n"
   ]
  },
  {
   "cell_type": "code",
   "execution_count": null,
   "metadata": {},
   "outputs": [],
   "source": []
  }
 ],
 "metadata": {
  "kernelspec": {
   "display_name": "Python 3",
   "language": "python",
   "name": "python3"
  },
  "language_info": {
   "codemirror_mode": {
    "name": "ipython",
    "version": 3
   },
   "file_extension": ".py",
   "mimetype": "text/x-python",
   "name": "python",
   "nbconvert_exporter": "python",
   "pygments_lexer": "ipython3",
   "version": "3.12.3"
  }
 },
 "nbformat": 4,
 "nbformat_minor": 2
}
